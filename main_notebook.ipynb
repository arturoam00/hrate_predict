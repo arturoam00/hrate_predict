{
 "cells": [
  {
   "cell_type": "code",
   "execution_count": 18,
   "metadata": {},
   "outputs": [],
   "source": [
    "import pandas as pd"
   ]
  },
  {
   "cell_type": "code",
   "execution_count": 19,
   "metadata": {},
   "outputs": [],
   "source": [
    "df = pd.read_csv(\"output/blabei80o1zfv437/merged.csv\", parse_dates=[\"Time\"], index_col=\"Time\").drop(columns=[\"Unnamed: 0\"])"
   ]
  },
  {
   "cell_type": "code",
   "execution_count": 20,
   "metadata": {},
   "outputs": [
    {
     "data": {
      "text/plain": [
       "Time\n",
       "2024-06-07 18:51:42.006    119.52\n",
       "2024-06-07 18:52:42.006    121.80\n",
       "2024-06-07 18:53:42.006    131.00\n",
       "2024-06-07 18:54:42.006    128.45\n",
       "2024-06-07 18:55:42.006    128.00\n",
       "                            ...  \n",
       "2024-06-07 20:17:42.006    115.00\n",
       "2024-06-07 20:18:42.006    121.68\n",
       "2024-06-07 20:19:42.006    121.11\n",
       "2024-06-07 20:20:42.006    124.74\n",
       "2024-06-07 20:21:42.006    133.98\n",
       "Name: Heart_rate_Avg, Length: 91, dtype: float64"
      ]
     },
     "execution_count": 20,
     "metadata": {},
     "output_type": "execute_result"
    }
   ],
   "source": [
    "df[\"Heart_rate_Avg\"][~df[\"Heart_rate_Avg\"].isna()]"
   ]
  }
 ],
 "metadata": {
  "kernelspec": {
   "display_name": ".venv",
   "language": "python",
   "name": "python3"
  },
  "language_info": {
   "codemirror_mode": {
    "name": "ipython",
    "version": 3
   },
   "file_extension": ".py",
   "mimetype": "text/x-python",
   "name": "python",
   "nbconvert_exporter": "python",
   "pygments_lexer": "ipython3",
   "version": "3.11.0rc1"
  }
 },
 "nbformat": 4,
 "nbformat_minor": 2
}
